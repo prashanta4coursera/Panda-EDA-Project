{
  "nbformat": 4,
  "nbformat_minor": 0,
  "metadata": {
    "colab": {
      "name": "capstone_project.ipynb",
      "provenance": [],
      "collapsed_sections": [],
      "authorship_tag": "ABX9TyNq8xp0qA9/7MPAJBw7JrI3",
      "include_colab_link": true
    },
    "kernelspec": {
      "name": "python3",
      "display_name": "Python 3"
    }
  },
  "cells": [
    {
      "cell_type": "markdown",
      "metadata": {
        "id": "view-in-github",
        "colab_type": "text"
      },
      "source": [
        "<a href=\"https://colab.research.google.com/github/prashanta4coursera/Panda-EDA-Project/blob/Project/capstone_project.ipynb\" target=\"_parent\"><img src=\"https://colab.research.google.com/assets/colab-badge.svg\" alt=\"Open In Colab\"/></a>"
      ]
    },
    {
      "cell_type": "markdown",
      "metadata": {
        "id": "6L-zIZHNJVKh",
        "colab_type": "text"
      },
      "source": [
        "**Project Description**  \n",
        "InsaidTelecom, one of the leading telecom players, understands that customizing offering is very important for its business to stay competitive.\n",
        "Currently, InsaidTelecom is seeking to leverage behavioral data from more than 60% of the 50 million mobile devices active daily in India\n",
        "to help its clients better understand and interact with their audiences.  \n",
        "\n",
        "In this consulting assignment, Insaidians are expected to build a dashboard to understand user's demographic characteristics based on their mobile usage, geolocation, and mobile device properties.\n",
        "Doing so will help millions of developers and brand advertisers around the world pursue data-driven marketing efforts which are relevant to their users and catered to their preferences."
      ]
    },
    {
      "cell_type": "markdown",
      "metadata": {
        "id": "Djeba2X4JdD6",
        "colab_type": "text"
      },
      "source": [
        "**Consulting Goals**  \n",
        "To help the customer the consultants are expected to have depth of clarity in the underlying data. How much effort has been put into cleansing and purifying the data will decide how closely have you looked at the data.\n",
        "How detailed is the observation stated in the submission report and finally how well a group presents their consulting journey.\n",
        "\n",
        "Please remember this is an analytics consulting hence, your efforts in terms of\n",
        "finding user behavior is going to directly impact the company's offerings.\n",
        "Do help the company understand what is the right way forward and suggest actionable insights from marketing and product terms."
      ]
    },
    {
      "cell_type": "markdown",
      "metadata": {
        "id": "_oV51pO2Jlui",
        "colab_type": "text"
      },
      "source": [
        "**Data Description**  \n",
        "In this assignment, you are going to study the demographics of a user (gender and age) based on their app download and usage behaviors.\n",
        "The Data is collected from mobile apps that use InsaidTelecom services. Full recognition and consent from individual user of those apps have been obtained,\n",
        "and appropriate anonymization have been performed to protect privacy. Due to confidentiality, we won't provide details on how the gender and age data was obtained.  \n",
        "Please treat them as accurate ground truth for prediction. The data schema can be represented in the following table:\n",
        "\n",
        "\n",
        "gender_age_train - Devices and their respective user gender, age and age_group  \n",
        "\n",
        "phone_brand_device_model - device ids, brand, and models phone_brand: note that few brands are in Chinese"
      ]
    },
    {
      "cell_type": "markdown",
      "metadata": {
        "id": "CwHQoyPMJ0tv",
        "colab_type": "text"
      },
      "source": [
        "Brand Name\tBrand English Mapping\n",
        "'华为'\t'Huawei'  \n",
        "'小米'\t'Xiaomi'  \n",
        "'三星'\t'Samsung'  \n",
        "'vivo'\t'vivo'  \n",
        "'OPPO'\t'OPPO'  \n",
        "'魅族'\t'Meizu'  \n",
        "'酷派'\t'Coolpad'  \n",
        "'乐视'\t'LeEco'  \n",
        "'联想 '\t'Lenovo'  \n",
        "'HTC'\t'HTC'  \n",
        "events_data - when a user uses mobile on INSAID Telecom network, the event gets logged in this data.  \n",
        "Each event has an event id, location (lat/long), and the event corresponds to frequency of mobile usage.   \n",
        "timestamp: when the user is using the mobile."
      ]
    },
    {
      "cell_type": "markdown",
      "metadata": {
        "id": "hcroWyge_mur",
        "colab_type": "text"
      },
      "source": [
        "Download the DataSets for events_data from : events_data.csv  \n",
        "https://drive.google.com/uc?export=download&id=1OK4yi-f1v03vS6fBMjuOLKPhNOfjzsh3  \n",
        "    \n",
        "\n",
        "Download the DataSets for gender_age_train & phone_brand_device_model onto Python by connecting to the below\n",
        "provided MySQL instance.  \n",
        "\n",
        "           \n",
        "host\t'cpanel.insaid.co'  \n",
        "user\t'student'   \n",
        "passwd\t'student'  \n",
        "database\t'Capstone1'  \n",
        "\n",
        "Use \"mysql.connector\" package in Python.  "
      ]
    },
    {
      "cell_type": "code",
      "metadata": {
        "id": "8KocjNIAsR1g",
        "colab_type": "code",
        "colab": {
          "base_uri": "https://localhost:8080/",
          "height": 106
        },
        "outputId": "57b02e4d-a3db-4bb8-887e-e9e50571d6d3"
      },
      "source": [
        "!pip install mysql-connector-python"
      ],
      "execution_count": 26,
      "outputs": [
        {
          "output_type": "stream",
          "text": [
            "Requirement already satisfied: mysql-connector-python in /usr/local/lib/python3.6/dist-packages (8.0.19)\n",
            "Requirement already satisfied: dnspython==1.16.0 in /usr/local/lib/python3.6/dist-packages (from mysql-connector-python) (1.16.0)\n",
            "Requirement already satisfied: protobuf==3.6.1 in /usr/local/lib/python3.6/dist-packages (from mysql-connector-python) (3.6.1)\n",
            "Requirement already satisfied: setuptools in /usr/local/lib/python3.6/dist-packages (from protobuf==3.6.1->mysql-connector-python) (45.1.0)\n",
            "Requirement already satisfied: six>=1.9 in /usr/local/lib/python3.6/dist-packages (from protobuf==3.6.1->mysql-connector-python) (1.12.0)\n"
          ],
          "name": "stdout"
        }
      ]
    },
    {
      "cell_type": "code",
      "metadata": {
        "id": "vX2KqljrA7qS",
        "colab_type": "code",
        "outputId": "1bc43087-f8dc-4673-a084-b20df1a43965",
        "colab": {
          "base_uri": "https://localhost:8080/",
          "height": 192
        }
      },
      "source": [
        "import mysql.connector\n",
        "mydb = mysql.connector.connect(\n",
        "  host=\"cpanel.insaid.co\",\n",
        "  user=\"student\",\n",
        "  passwd=\"student\",\n",
        "  database=\"Capstone1\"\n",
        ")\n",
        "\n",
        "mycursor = mydb.cursor()\n",
        "mycursor.execute(\"SHOW TABLES\")\n",
        "for x in mycursor :\n",
        "  print(x)\n",
        "\n",
        "mycursor1 = mydb.cursor()\n",
        "mycursor1.execute(\"SELECT * FROM events_data\")\n",
        "records1 = mycursor1.fetchall()\n",
        "events_data_sql = pd.DataFrame(records1)\n",
        "events_data_sql.head(3)\n"
      ],
      "execution_count": 35,
      "outputs": [
        {
          "output_type": "stream",
          "text": [
            "('events_data',)\n",
            "('gender_age_train',)\n",
            "('phone_brand_device_model',)\n"
          ],
          "name": "stdout"
        },
        {
          "output_type": "execute_result",
          "data": {
            "text/html": [
              "<div>\n",
              "<style scoped>\n",
              "    .dataframe tbody tr th:only-of-type {\n",
              "        vertical-align: middle;\n",
              "    }\n",
              "\n",
              "    .dataframe tbody tr th {\n",
              "        vertical-align: top;\n",
              "    }\n",
              "\n",
              "    .dataframe thead th {\n",
              "        text-align: right;\n",
              "    }\n",
              "</style>\n",
              "<table border=\"1\" class=\"dataframe\">\n",
              "  <thead>\n",
              "    <tr style=\"text-align: right;\">\n",
              "      <th></th>\n",
              "      <th>0</th>\n",
              "      <th>1</th>\n",
              "      <th>2</th>\n",
              "      <th>3</th>\n",
              "      <th>4</th>\n",
              "      <th>5</th>\n",
              "      <th>6</th>\n",
              "    </tr>\n",
              "  </thead>\n",
              "  <tbody>\n",
              "    <tr>\n",
              "      <th>0</th>\n",
              "      <td>1</td>\n",
              "      <td>2.918269e+16</td>\n",
              "      <td>2016-05-01 00:55:25</td>\n",
              "      <td>77.266052</td>\n",
              "      <td>28.68161</td>\n",
              "      <td>Delhi</td>\n",
              "      <td>Delhi</td>\n",
              "    </tr>\n",
              "    <tr>\n",
              "      <th>1</th>\n",
              "      <td>7104</td>\n",
              "      <td>2.918269e+16</td>\n",
              "      <td>2016-05-02 09:37:02</td>\n",
              "      <td>77.266052</td>\n",
              "      <td>28.68161</td>\n",
              "      <td>Delhi</td>\n",
              "      <td>Delhi</td>\n",
              "    </tr>\n",
              "    <tr>\n",
              "      <th>2</th>\n",
              "      <td>29661</td>\n",
              "      <td>2.918269e+16</td>\n",
              "      <td>2016-05-04 00:56:04</td>\n",
              "      <td>77.266052</td>\n",
              "      <td>28.68161</td>\n",
              "      <td>Delhi</td>\n",
              "      <td>Delhi</td>\n",
              "    </tr>\n",
              "  </tbody>\n",
              "</table>\n",
              "</div>"
            ],
            "text/plain": [
              "       0             1                   2          3         4      5      6\n",
              "0      1  2.918269e+16 2016-05-01 00:55:25  77.266052  28.68161  Delhi  Delhi\n",
              "1   7104  2.918269e+16 2016-05-02 09:37:02  77.266052  28.68161  Delhi  Delhi\n",
              "2  29661  2.918269e+16 2016-05-04 00:56:04  77.266052  28.68161  Delhi  Delhi"
            ]
          },
          "metadata": {
            "tags": []
          },
          "execution_count": 35
        }
      ]
    },
    {
      "cell_type": "code",
      "metadata": {
        "id": "lLeLzZvecyeh",
        "colab_type": "code",
        "colab": {
          "base_uri": "https://localhost:8080/",
          "height": 139
        },
        "outputId": "f2fb4e52-7579-4002-ea19-ef0f32300ed3"
      },
      "source": [
        "\n",
        "mycursor2 = mydb.cursor()\n",
        "mycursor2.execute(\"SELECT * FROM gender_age_train\")\n",
        "records2 = mycursor2.fetchall()\n",
        "gender_age_train = pd.DataFrame(records2)\n",
        "gender_age_train.head(3)\n"
      ],
      "execution_count": 36,
      "outputs": [
        {
          "output_type": "execute_result",
          "data": {
            "text/html": [
              "<div>\n",
              "<style scoped>\n",
              "    .dataframe tbody tr th:only-of-type {\n",
              "        vertical-align: middle;\n",
              "    }\n",
              "\n",
              "    .dataframe tbody tr th {\n",
              "        vertical-align: top;\n",
              "    }\n",
              "\n",
              "    .dataframe thead th {\n",
              "        text-align: right;\n",
              "    }\n",
              "</style>\n",
              "<table border=\"1\" class=\"dataframe\">\n",
              "  <thead>\n",
              "    <tr style=\"text-align: right;\">\n",
              "      <th></th>\n",
              "      <th>0</th>\n",
              "      <th>1</th>\n",
              "      <th>2</th>\n",
              "      <th>3</th>\n",
              "    </tr>\n",
              "  </thead>\n",
              "  <tbody>\n",
              "    <tr>\n",
              "      <th>0</th>\n",
              "      <td>-8076087639492063270</td>\n",
              "      <td>M</td>\n",
              "      <td>35</td>\n",
              "      <td>M32-38</td>\n",
              "    </tr>\n",
              "    <tr>\n",
              "      <th>1</th>\n",
              "      <td>-2897161552818060146</td>\n",
              "      <td>M</td>\n",
              "      <td>35</td>\n",
              "      <td>M32-38</td>\n",
              "    </tr>\n",
              "    <tr>\n",
              "      <th>2</th>\n",
              "      <td>-8260683887967679142</td>\n",
              "      <td>M</td>\n",
              "      <td>35</td>\n",
              "      <td>M32-38</td>\n",
              "    </tr>\n",
              "  </tbody>\n",
              "</table>\n",
              "</div>"
            ],
            "text/plain": [
              "                     0  1   2       3\n",
              "0 -8076087639492063270  M  35  M32-38\n",
              "1 -2897161552818060146  M  35  M32-38\n",
              "2 -8260683887967679142  M  35  M32-38"
            ]
          },
          "metadata": {
            "tags": []
          },
          "execution_count": 36
        }
      ]
    },
    {
      "cell_type": "code",
      "metadata": {
        "id": "WR6o-pxFc2-L",
        "colab_type": "code",
        "colab": {
          "base_uri": "https://localhost:8080/",
          "height": 139
        },
        "outputId": "d350a3e7-1522-4a34-aa00-9bd16653ac72"
      },
      "source": [
        "\n",
        "mycursor3 = mydb.cursor()\n",
        "mycursor3.execute(\"SELECT * FROM phone_brand_device_model\")\n",
        "records3 = mycursor3.fetchall()\n",
        "phone_brand_device_model = pd.DataFrame(records3)\n",
        "phone_brand_device_model.head(3)"
      ],
      "execution_count": 37,
      "outputs": [
        {
          "output_type": "execute_result",
          "data": {
            "text/html": [
              "<div>\n",
              "<style scoped>\n",
              "    .dataframe tbody tr th:only-of-type {\n",
              "        vertical-align: middle;\n",
              "    }\n",
              "\n",
              "    .dataframe tbody tr th {\n",
              "        vertical-align: top;\n",
              "    }\n",
              "\n",
              "    .dataframe thead th {\n",
              "        text-align: right;\n",
              "    }\n",
              "</style>\n",
              "<table border=\"1\" class=\"dataframe\">\n",
              "  <thead>\n",
              "    <tr style=\"text-align: right;\">\n",
              "      <th></th>\n",
              "      <th>0</th>\n",
              "      <th>1</th>\n",
              "      <th>2</th>\n",
              "    </tr>\n",
              "  </thead>\n",
              "  <tbody>\n",
              "    <tr>\n",
              "      <th>0</th>\n",
              "      <td>1877775838486905855</td>\n",
              "      <td>vivo</td>\n",
              "      <td>Y13</td>\n",
              "    </tr>\n",
              "    <tr>\n",
              "      <th>1</th>\n",
              "      <td>-3766087376657242966</td>\n",
              "      <td>小米</td>\n",
              "      <td>V183</td>\n",
              "    </tr>\n",
              "    <tr>\n",
              "      <th>2</th>\n",
              "      <td>-6238937574958215831</td>\n",
              "      <td>OPPO</td>\n",
              "      <td>R7s</td>\n",
              "    </tr>\n",
              "  </tbody>\n",
              "</table>\n",
              "</div>"
            ],
            "text/plain": [
              "                     0     1     2\n",
              "0  1877775838486905855  vivo   Y13\n",
              "1 -3766087376657242966    小米  V183\n",
              "2 -6238937574958215831  OPPO   R7s"
            ]
          },
          "metadata": {
            "tags": []
          },
          "execution_count": 37
        }
      ]
    },
    {
      "cell_type": "code",
      "metadata": {
        "id": "Ihm5AW_xMUBi",
        "colab_type": "code",
        "colab": {}
      },
      "source": [
        "mydb.close()"
      ],
      "execution_count": 0,
      "outputs": []
    },
    {
      "cell_type": "code",
      "metadata": {
        "id": "1_YraUoKV6Q7",
        "colab_type": "code",
        "colab": {}
      },
      "source": [
        ""
      ],
      "execution_count": 0,
      "outputs": []
    },
    {
      "cell_type": "markdown",
      "metadata": {
        "id": "QWam1_h3V0QA",
        "colab_type": "text"
      },
      "source": [
        "# New Section"
      ]
    }
  ]
}